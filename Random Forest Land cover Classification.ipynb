{
 "cells": [
  {
   "cell_type": "markdown",
   "metadata": {},
   "source": [
    "# 1- Training and Test Dataset for RF model"
   ]
  },
  {
   "cell_type": "code",
   "execution_count": 38,
   "metadata": {},
   "outputs": [],
   "source": [
    "# Importing libraries\n",
    "import gdal\n",
    "import ogr        # to read vector files\n",
    "import numpy as np\n",
    "import pandas as pd\n",
    "import geopandas as gpd\n",
    "\n",
    "from skimage import exposure\n",
    "from skimage.segmentation import quickshift\n",
    "import time\n",
    "from skimage.segmentation import slic\n",
    "import scipy\n",
    "\n",
    "import matplotlib.pyplot as plt\n",
    "import seaborn as sns\n",
    "\n",
    "from sklearn.ensemble import RandomForestClassifier\n",
    "from sklearn.metrics import accuracy_score, confusion_matrix"
   ]
  },
  {
   "cell_type": "code",
   "execution_count": 2,
   "metadata": {},
   "outputs": [],
   "source": [
    "# Load the map include all the bands (2-7) - we can clip the study of area\n",
    "# this map has loaded in QGIS\n",
    "data_path = 'D:/desktop/out_qgis/clip_merged.tif'\n",
    "data_set = gdal.Open(data_path)\n",
    "nRows = data_set.RasterYSize\n",
    "nCols = data_set.RasterXSize"
   ]
  },
  {
   "cell_type": "code",
   "execution_count": 3,
   "metadata": {},
   "outputs": [
    {
     "data": {
      "text/html": [
       "<div>\n",
       "<style scoped>\n",
       "    .dataframe tbody tr th:only-of-type {\n",
       "        vertical-align: middle;\n",
       "    }\n",
       "\n",
       "    .dataframe tbody tr th {\n",
       "        vertical-align: top;\n",
       "    }\n",
       "\n",
       "    .dataframe thead th {\n",
       "        text-align: right;\n",
       "    }\n",
       "</style>\n",
       "<table border=\"1\" class=\"dataframe\">\n",
       "  <thead>\n",
       "    <tr style=\"text-align: right;\">\n",
       "      <th></th>\n",
       "      <th>lctype</th>\n",
       "      <th>geometry</th>\n",
       "    </tr>\n",
       "  </thead>\n",
       "  <tbody>\n",
       "    <tr>\n",
       "      <th>0</th>\n",
       "      <td>water</td>\n",
       "      <td>POINT (619702.306 4532704.428)</td>\n",
       "    </tr>\n",
       "    <tr>\n",
       "      <th>1</th>\n",
       "      <td>water</td>\n",
       "      <td>POINT (628207.399 4537176.178)</td>\n",
       "    </tr>\n",
       "    <tr>\n",
       "      <th>2</th>\n",
       "      <td>water</td>\n",
       "      <td>POINT (645173.745 4539894.301)</td>\n",
       "    </tr>\n",
       "    <tr>\n",
       "      <th>3</th>\n",
       "      <td>water</td>\n",
       "      <td>POINT (662359.295 4495790.569)</td>\n",
       "    </tr>\n",
       "    <tr>\n",
       "      <th>4</th>\n",
       "      <td>water</td>\n",
       "      <td>POINT (651486.804 4494913.755)</td>\n",
       "    </tr>\n",
       "    <tr>\n",
       "      <th>...</th>\n",
       "      <td>...</td>\n",
       "      <td>...</td>\n",
       "    </tr>\n",
       "    <tr>\n",
       "      <th>61</th>\n",
       "      <td>bare_land</td>\n",
       "      <td>POINT (620777.773 4497245.532)</td>\n",
       "    </tr>\n",
       "    <tr>\n",
       "      <th>62</th>\n",
       "      <td>bare_land</td>\n",
       "      <td>POINT (627156.593 4500051.336)</td>\n",
       "    </tr>\n",
       "    <tr>\n",
       "      <th>63</th>\n",
       "      <td>bare_land</td>\n",
       "      <td>POINT (610513.572 4495130.218)</td>\n",
       "    </tr>\n",
       "    <tr>\n",
       "      <th>64</th>\n",
       "      <td>bare_land</td>\n",
       "      <td>POINT (603340.139 4495590.546)</td>\n",
       "    </tr>\n",
       "    <tr>\n",
       "      <th>65</th>\n",
       "      <td>bare_land</td>\n",
       "      <td>POINT (595952.983 4500117.097)</td>\n",
       "    </tr>\n",
       "  </tbody>\n",
       "</table>\n",
       "<p>66 rows × 2 columns</p>\n",
       "</div>"
      ],
      "text/plain": [
       "       lctype                        geometry\n",
       "0       water  POINT (619702.306 4532704.428)\n",
       "1       water  POINT (628207.399 4537176.178)\n",
       "2       water  POINT (645173.745 4539894.301)\n",
       "3       water  POINT (662359.295 4495790.569)\n",
       "4       water  POINT (651486.804 4494913.755)\n",
       "..        ...                             ...\n",
       "61  bare_land  POINT (620777.773 4497245.532)\n",
       "62  bare_land  POINT (627156.593 4500051.336)\n",
       "63  bare_land  POINT (610513.572 4495130.218)\n",
       "64  bare_land  POINT (603340.139 4495590.546)\n",
       "65  bare_land  POINT (595952.983 4500117.097)\n",
       "\n",
       "[66 rows x 2 columns]"
      ]
     },
     "execution_count": 3,
     "metadata": {},
     "output_type": "execute_result"
    }
   ],
   "source": [
    "# we read the shapefile which has been obtaind by separating training data (points were allocated as water, urban, forest ... \n",
    "# to identify the number of land use/Land cover) in QGIS\n",
    "gdf = gpd.read_file('D:/desktop/out_qgis/truth_data_subset.shp')\n",
    "gdf"
   ]
  },
  {
   "cell_type": "code",
   "execution_count": 4,
   "metadata": {},
   "outputs": [
    {
     "name": "stdout",
     "output_type": "stream",
     "text": [
      "Class names ['water' 'vegetation' 'urban' 'bare_land']\n"
     ]
    }
   ],
   "source": [
    "# Identify the name of classes we have\n",
    "class_names = gdf['lctype'].unique()\n",
    "print('Class names', class_names)"
   ]
  },
  {
   "cell_type": "code",
   "execution_count": 5,
   "metadata": {},
   "outputs": [
    {
     "name": "stdout",
     "output_type": "stream",
     "text": [
      "Class ids [1 2 3 4]\n"
     ]
    }
   ],
   "source": [
    "# Here give number to each class_names\n",
    "# add 1 to start 1 index instead of 0 index\n",
    "class_ids = np.arange(class_names.size) + 1\n",
    "print('Class ids', class_ids)"
   ]
  },
  {
   "cell_type": "code",
   "execution_count": 6,
   "metadata": {},
   "outputs": [
    {
     "data": {
      "text/html": [
       "<div>\n",
       "<style scoped>\n",
       "    .dataframe tbody tr th:only-of-type {\n",
       "        vertical-align: middle;\n",
       "    }\n",
       "\n",
       "    .dataframe tbody tr th {\n",
       "        vertical-align: top;\n",
       "    }\n",
       "\n",
       "    .dataframe thead th {\n",
       "        text-align: right;\n",
       "    }\n",
       "</style>\n",
       "<table border=\"1\" class=\"dataframe\">\n",
       "  <thead>\n",
       "    <tr style=\"text-align: right;\">\n",
       "      <th></th>\n",
       "      <th>lctype</th>\n",
       "      <th>geometry</th>\n",
       "      <th>id</th>\n",
       "    </tr>\n",
       "  </thead>\n",
       "  <tbody>\n",
       "    <tr>\n",
       "      <th>0</th>\n",
       "      <td>water</td>\n",
       "      <td>POINT (619702.306 4532704.428)</td>\n",
       "      <td>1</td>\n",
       "    </tr>\n",
       "    <tr>\n",
       "      <th>1</th>\n",
       "      <td>water</td>\n",
       "      <td>POINT (628207.399 4537176.178)</td>\n",
       "      <td>1</td>\n",
       "    </tr>\n",
       "    <tr>\n",
       "      <th>2</th>\n",
       "      <td>water</td>\n",
       "      <td>POINT (645173.745 4539894.301)</td>\n",
       "      <td>1</td>\n",
       "    </tr>\n",
       "    <tr>\n",
       "      <th>3</th>\n",
       "      <td>water</td>\n",
       "      <td>POINT (662359.295 4495790.569)</td>\n",
       "      <td>1</td>\n",
       "    </tr>\n",
       "    <tr>\n",
       "      <th>4</th>\n",
       "      <td>water</td>\n",
       "      <td>POINT (651486.804 4494913.755)</td>\n",
       "      <td>1</td>\n",
       "    </tr>\n",
       "  </tbody>\n",
       "</table>\n",
       "</div>"
      ],
      "text/plain": [
       "  lctype                        geometry  id\n",
       "0  water  POINT (619702.306 4532704.428)   1\n",
       "1  water  POINT (628207.399 4537176.178)   1\n",
       "2  water  POINT (645173.745 4539894.301)   1\n",
       "3  water  POINT (662359.295 4495790.569)   1\n",
       "4  water  POINT (651486.804 4494913.755)   1"
      ]
     },
     "execution_count": 6,
     "metadata": {},
     "output_type": "execute_result"
    }
   ],
   "source": [
    "# add a column \n",
    "# build DataFrame with the id column\n",
    "gdf['id'] = gdf['lctype'].map(dict(zip(class_names, class_ids)))\n",
    "gdf.head()"
   ]
  },
  {
   "cell_type": "code",
   "execution_count": 7,
   "metadata": {},
   "outputs": [
    {
     "name": "stdout",
     "output_type": "stream",
     "text": [
      "gdf shape (66, 3) training shape (46, 3) test shape (20, 3)\n"
     ]
    }
   ],
   "source": [
    "# create and separate Train and Test dataset\n",
    "gdf_train = gdf.sample(frac=0.7)\n",
    "gdf_test = gdf.drop(gdf_train.index)\n",
    "print('gdf shape', gdf.shape, 'training shape', gdf_train.shape, 'test shape', gdf_test.shape)\n",
    "# to save (we get a name with shp format (e.g:Train.shp) in the folder)\n",
    "gdf_train.to_file('D:/desktop/out_qgis/Train.shp')\n",
    "gdf_test.to_file('D:/desktop/out_qgis/Test.shp')"
   ]
  },
  {
   "cell_type": "markdown",
   "metadata": {},
   "source": [
    "# 2- Rasterize Shapefile Training Data"
   ]
  },
  {
   "cell_type": "code",
   "execution_count": 9,
   "metadata": {},
   "outputs": [],
   "source": [
    "# Read Training data built in the previous phase\n",
    "train_path = 'D:/desktop/out_qgis/Train.shp'\n",
    "train_data = ogr.Open(train_path)\n",
    "layer = train_data.GetLayer()"
   ]
  },
  {
   "cell_type": "code",
   "execution_count": 10,
   "metadata": {},
   "outputs": [
    {
     "name": "stdout",
     "output_type": "stream",
     "text": [
      "min 0 max 4 mean 2.5999347223001128e-05\n"
     ]
    }
   ],
   "source": [
    "# Create a memory raster to rasterize into\n",
    "driver = gdal.GetDriverByName('MEM')   # MEM = memory\n",
    "# when using 'MEM', to Create target dataset, we do not need to identify an address so just give '' empty\n",
    "# 1 is the number of band\n",
    "target_data = driver.Create('', data_set.RasterXSize, data_set.RasterYSize, 1, gdal.GDT_UInt16)    # GDT_UInt16 = dataType\n",
    "target_data.SetGeoTransform(data_set.GetGeoTransform())\n",
    "target_data.SetProjection(data_set.GetProjection())\n",
    "# rasterize \n",
    "#options = ['ATTRIBUTE=id']\n",
    "gdal.RasterizeLayer(target_data, [1], layer,  options = ['ATTRIBUTE=id'])    # [1] = num of bands\n",
    "\n",
    "data1 = target_data.GetRasterBand(1).ReadAsArray()\n",
    "print('min', data1.min(), 'max', data1.max(), 'mean', data1.mean())"
   ]
  },
  {
   "cell_type": "markdown",
   "metadata": {},
   "source": [
    "Notice: to specify target dataset, the max should be equal the number of Classes (here the num of classes was 4)\n",
    "\n",
    "if the data1.max became 255 is wrong and we do'nt get the desired result\n",
    "\n",
    "Also, it is very essential to determine options=['ATTRIBUTE=id'] in gdal.RasterizeLayer because this phase will show data1.max\n",
    "correctly, without this, we would get wrong result."
   ]
  },
  {
   "cell_type": "markdown",
   "metadata": {},
   "source": [
    "# 3- Image Segmentation"
   ]
  },
  {
   "cell_type": "markdown",
   "metadata": {},
   "source": [
    "The difference between Slic and Quickshift is that slic is faster than quickshift"
   ]
  },
  {
   "cell_type": "code",
   "execution_count": 12,
   "metadata": {},
   "outputs": [
    {
     "name": "stdout",
     "output_type": "stream",
     "text": [
      "bands 6 rows 1777 columns 2619\n"
     ]
    }
   ],
   "source": [
    "# load the main map (include all bands (2-7)) in order to get band's number\n",
    "data = 'D:/desktop/out_qgis/clip_merged.tif'\n",
    "\n",
    "driverTiff = gdal.GetDriverByName('GTiff')\n",
    "study_ds = gdal.Open(data)\n",
    "nBands = study_ds.RasterCount\n",
    "\n",
    "band_data = []\n",
    "print('bands', study_ds.RasterCount, 'rows', study_ds.RasterYSize, 'columns', study_ds.RasterXSize)\n",
    "\n",
    "for i in range(1, nBands+1):\n",
    "    band = study_ds.GetRasterBand(i).ReadAsArray()    # To convert as an array\n",
    "    band_data.append(band)\n",
    "\n",
    "# by dstack, we reshape array 2D to 3D ->  (rows, columns, bands)\n",
    "band_data = np.dstack(band_data)"
   ]
  },
  {
   "cell_type": "code",
   "execution_count": 13,
   "metadata": {},
   "outputs": [
    {
     "data": {
      "text/plain": [
       "(1777, 2619, 6)"
      ]
     },
     "execution_count": 13,
     "metadata": {},
     "output_type": "execute_result"
    }
   ],
   "source": [
    "band_data.shape"
   ]
  },
  {
   "cell_type": "code",
   "execution_count": 14,
   "metadata": {},
   "outputs": [],
   "source": [
    "# rescale band data\n",
    "img = exposure.rescale_intensity(band_data)"
   ]
  },
  {
   "cell_type": "code",
   "execution_count": 19,
   "metadata": {},
   "outputs": [
    {
     "name": "stdout",
     "output_type": "stream",
     "text": [
      "segment complete\n"
     ]
    }
   ],
   "source": [
    "# do segmentation with slic and quickshift (slic is faster than quickshift)\n",
    "segments = slic(img, n_segments=500000, compactness=0.1)\n",
    "#segments = quickshift(img,ratio=0.99, max_dist=5, convert2lab=False)\n",
    "print('segment complete')"
   ]
  },
  {
   "cell_type": "code",
   "execution_count": 20,
   "metadata": {},
   "outputs": [],
   "source": [
    "# save segments to raster\n",
    "SegmentsOutput = 'D:/desktop/out_qgis/segments_final.tif'   \n",
    "\n",
    "segments_data = driverTiff.Create(SegmentsOutput, study_ds.RasterXSize, study_ds.RasterYSize,\n",
    "                               1, gdal.GDT_Float32)   # 1 = number of band ,  dtype = gdal.GDT_Float32\n",
    "segments_data.SetGeoTransform(study_ds.GetGeoTransform())\n",
    "segments_data.SetProjection(study_ds.GetProjectionRef())\n",
    "segments_data.GetRasterBand(1).WriteArray(segments)\n",
    "segments_data = None"
   ]
  },
  {
   "cell_type": "markdown",
   "metadata": {},
   "source": [
    "# 4- Get Statistics for Image Segments"
   ]
  },
  {
   "cell_type": "markdown",
   "metadata": {},
   "source": [
    "Here we identified the number of segment's pixels and bands"
   ]
  },
  {
   "cell_type": "code",
   "execution_count": 21,
   "metadata": {},
   "outputs": [],
   "source": [
    "def segment_features(segment_pixels):\n",
    "    features = []\n",
    "    npixels, nbands = segment_pixels.shape\n",
    "    for b in range(nbands):\n",
    "        stats = scipy.stats.describe(segment_pixels[:, b])  \n",
    "        band_stats = list(stats.minmax) + list(stats)[2:]\n",
    "        if npixels == 1:\n",
    "            # in this case the variance = nan, change it 0.0\n",
    "            band_stats[3] = 0.0\n",
    "        features += band_stats\n",
    "    return features"
   ]
  },
  {
   "cell_type": "code",
   "execution_count": null,
   "metadata": {},
   "outputs": [],
   "source": [
    "# group pixels of segment_ids\n",
    "obj_start = time.time()\n",
    "# for each of segments, we have an id, an object and an object_id\n",
    "segment_ids = np.unique(segments)   # segment_id has the id for each segment\n",
    "objects = []\n",
    "object_ids = []\n",
    "\n",
    "for id in segment_ids:\n",
    "    segment_pixels = img[segments == id]         # img is 3D (rows, columns, channels)\n",
    "    print('pixels for id', id, segment_pixels.shape)\n",
    "    # every object has feature which come from segment's feature \n",
    "    object_features = segment_features(segment_pixels)\n",
    "    # object has data that correspond to each segment\n",
    "    objects.append(object_features)    # object is needed for training data\n",
    "    object_ids.append(id)"
   ]
  },
  {
   "cell_type": "code",
   "execution_count": 23,
   "metadata": {},
   "outputs": [
    {
     "name": "stdout",
     "output_type": "stream",
     "text": [
      "created 25048 objects with 36 variables in 788.4850730895996 second\n"
     ]
    }
   ],
   "source": [
    "print('created', len(objects), 'objects with', len(objects[0]), 'variables in', time.time()-obj_start, 'second')"
   ]
  },
  {
   "cell_type": "markdown",
   "metadata": {},
   "source": [
    "# 5- Assign Classification to Image Segments for object based Image Classification"
   ]
  },
  {
   "cell_type": "code",
   "execution_count": 24,
   "metadata": {},
   "outputs": [
    {
     "name": "stdout",
     "output_type": "stream",
     "text": [
      "class value [1 2 3 4]\n"
     ]
    }
   ],
   "source": [
    "# we read target dataset in an array\n",
    "ground_truth = target_data.GetRasterBand(1).ReadAsArray()\n",
    "\n",
    "# class value should be numbered from 1 to the num of classes\n",
    "classes = np.unique(ground_truth)[1:]     # we do not have 0 so [1:] means upper than 0\n",
    "print('class value', classes)"
   ]
  },
  {
   "cell_type": "code",
   "execution_count": 25,
   "metadata": {},
   "outputs": [
    {
     "name": "stdout",
     "output_type": "stream",
     "text": [
      "Training segment for class 1 : 10\n",
      "Training segment for class 2 : 9\n",
      "Training segment for class 3 : 15\n",
      "Training segment for class 4 : 12\n"
     ]
    }
   ],
   "source": [
    "segments_per_class = {}\n",
    "for k in classes:\n",
    "    segments_of_class = segments[ground_truth == k]   # where ground_truth is equal to k in segments\n",
    "    # add segmets_of_class to dict\n",
    "    segments_per_class[k] = set(segments_of_class)\n",
    "    print('Training segment for class', k, ':', len(segments_of_class))"
   ]
  },
  {
   "cell_type": "code",
   "execution_count": 26,
   "metadata": {},
   "outputs": [],
   "source": [
    "# To make sure that segments are not a multiple classes, or make sure each class has not more one class\n",
    "intersection = set()\n",
    "accum = set()\n",
    "\n",
    "for class_segments in segments_per_class.values():\n",
    "    # this code means any accum intersection with class_segments sould be added to intersection\n",
    "    intersection |= accum.intersection(class_segments)    \n",
    "    accum |= class_segments                               \n",
    "    "
   ]
  },
  {
   "cell_type": "markdown",
   "metadata": {},
   "source": [
    "# 6- Random Forest Image Classification"
   ]
  },
  {
   "cell_type": "code",
   "execution_count": 28,
   "metadata": {},
   "outputs": [],
   "source": [
    "# 1- create training image\n",
    "train_img = np.copy(segments)\n",
    "# 2- need to treshold to identify maximum of segment value is\n",
    "threshold = train_img.max() + 1\n",
    "\n",
    "# loop for classes we have\n",
    "\n",
    "for k in classes:\n",
    "    class_label = threshold + k\n",
    "    # each segment sould be equal class_label\n",
    "    for segment_id in segments_per_class[k]:\n",
    "        train_img[train_img == segment_id] = class_label    # to change train_img to class_label\n",
    "\n",
    "train_img[train_img <= threshold] = 0\n",
    "train_img[train_img > threshold] -= threshold"
   ]
  },
  {
   "cell_type": "code",
   "execution_count": 29,
   "metadata": {},
   "outputs": [
    {
     "name": "stdout",
     "output_type": "stream",
     "text": [
      "Training objecs for class 1 : 10\n",
      "Training objecs for class 2 : 9\n",
      "Training objecs for class 3 : 14\n",
      "Training objecs for class 4 : 12\n"
     ]
    }
   ],
   "source": [
    "training_objects = []\n",
    "training_labels = []\n",
    "\n",
    "for k in classes:\n",
    "    class_train_object = [value for i, value in enumerate(objects) if segment_ids[i] in segments_per_class[k]]\n",
    "    # this code will show the repeat of class,\n",
    "    # for example, if we had 15 segment represented water, we would then get number of 3 that repeated 15 times\n",
    "    training_labels += [k] * len(class_train_object)\n",
    "    # add training_objects\n",
    "    training_objects += class_train_object\n",
    "    print('Training objecs for class', k, ':', len(class_train_object))"
   ]
  },
  {
   "cell_type": "code",
   "execution_count": 30,
   "metadata": {},
   "outputs": [
    {
     "name": "stdout",
     "output_type": "stream",
     "text": [
      "Fitting Random Forest Classifier\n"
     ]
    }
   ],
   "source": [
    "model = RandomForestClassifier(n_jobs=-1)\n",
    "model.fit(training_objects, training_labels)\n",
    "print('Fitting Random Forest Classifier')"
   ]
  },
  {
   "cell_type": "code",
   "execution_count": 31,
   "metadata": {},
   "outputs": [
    {
     "name": "stdout",
     "output_type": "stream",
     "text": [
      "Predicting Classifications\n"
     ]
    }
   ],
   "source": [
    "predicted = model.predict(objects)\n",
    "print('Predicting Classifications')"
   ]
  },
  {
   "cell_type": "code",
   "execution_count": 67,
   "metadata": {},
   "outputs": [
    {
     "name": "stdout",
     "output_type": "stream",
     "text": [
      "Prediction applied to numpy array\n"
     ]
    }
   ],
   "source": [
    "# copy of segments\n",
    "clf = np.copy(segments)\n",
    "# predict segment_id\n",
    "\n",
    "for segment_id, k in zip(segment_ids, predicted):\n",
    "    clf[clf == segment_id] = k\n",
    "    \n",
    "print('Prediction applied to numpy array')\n",
    "    \n",
    "# make a mask to show us where we have data and do not have data\n",
    "mask = np.sum(img, axis=2)\n",
    "mask[mask > 0.0] = 1.0\n",
    "mask[mask == 0.0] = -1.0\n",
    "clf = np.multiply(clf, mask)\n",
    "clf[clf < 0] = -9999.0"
   ]
  },
  {
   "cell_type": "code",
   "execution_count": 68,
   "metadata": {},
   "outputs": [],
   "source": [
    "# save and visualize classification data\n",
    "\n",
    "clf_ds = driverTiff.Create('D:/desktop/out_qgis/Classified.tif', study_ds.RasterXSize, study_ds.RasterYSize,\n",
    "                          1, gdal.GDT_Float32)\n",
    "clf_ds.SetGeoTransform(study_ds.GetGeoTransform())\n",
    "clf_ds.SetProjection(study_ds.GetProjectionRef())\n",
    "clf_ds.GetRasterBand(1).SetNoDataValue(-9999.0)\n",
    "clf_ds.GetRasterBand(1).WriteArray(clf)\n",
    "clf_ds = None"
   ]
  },
  {
   "cell_type": "markdown",
   "metadata": {},
   "source": [
    "# 7- Accuracy"
   ]
  },
  {
   "cell_type": "code",
   "execution_count": 64,
   "metadata": {},
   "outputs": [],
   "source": [
    "data_path = 'D:/desktop/out_qgis/clip_merged.tif'\n",
    "\n",
    "driverTiff = gdal.GetDriverByName('GTiff')\n",
    "data_set = gdal.Open(data_path)"
   ]
  },
  {
   "cell_type": "code",
   "execution_count": 69,
   "metadata": {},
   "outputs": [
    {
     "name": "stdout",
     "output_type": "stream",
     "text": [
      "min 0 max 4 mean 9.239437442884698e-06\n"
     ]
    }
   ],
   "source": [
    "# Test data\n",
    "# This need for accuracy the model\n",
    "test_path = 'D:/desktop/out_qgis/Test.shp'\n",
    "test_data = ogr.Open(test_path)\n",
    "layer = test_data.GetLayer() \n",
    "\n",
    "driver = gdal.GetDriverByName('MEM') \n",
    "target_test = driver.Create('', data_set.RasterXSize, data_set.RasterYSize, 1, gdal.GDT_UInt16)    # GDT_UInt16 = dataType\n",
    "target_test.SetGeoTransform(data_set.GetGeoTransform())\n",
    "target_test.SetProjection(data_set.GetProjection())\n",
    "# rasterize \n",
    "gdal.RasterizeLayer(target_test, [1], layer,  options = ['ATTRIBUTE=id'])    # [1] = num of bands\n",
    "\n",
    "truth_data = target_test.GetRasterBand(1).ReadAsArray()\n",
    "print('min', truth_data.min(), 'max', truth_data.max(), 'mean', truth_data.mean())"
   ]
  },
  {
   "cell_type": "code",
   "execution_count": 70,
   "metadata": {},
   "outputs": [
    {
     "data": {
      "text/plain": [
       "array([[6, 0, 0, 1],\n",
       "       [0, 3, 0, 1],\n",
       "       [0, 0, 8, 0],\n",
       "       [0, 0, 0, 1]], dtype=int64)"
      ]
     },
     "metadata": {},
     "output_type": "display_data"
    }
   ],
   "source": [
    "pred_data = gdal.Open('D:/desktop/out_qgis/Classified.tif')\n",
    "prediction = pred_data.GetRasterBand(1).ReadAsArray()\n",
    "\n",
    "# To find locations in truth where are not zero\n",
    "idx_nonzero = np.nonzero(truth_data)\n",
    "\n",
    "# confusion matrix\n",
    "cm = confusion_matrix(truth_data[idx_nonzero], prediction[idx_nonzero]) \n",
    "display(cm)"
   ]
  },
  {
   "cell_type": "code",
   "execution_count": 73,
   "metadata": {},
   "outputs": [
    {
     "data": {
      "image/png": "[encoded data removed]",
      "text/plain": [
       "<Figure size 396x288 with 2 Axes>"
      ]
     },
     "metadata": {
      "needs_background": "light"
     },
     "output_type": "display_data"
    }
   ],
   "source": [
    "np.set_printoptions(precision=2)\n",
    "\n",
    "plt.figure(figsize=(5.5,4))\n",
    "sns.heatmap(cm, annot=True)\n",
    "plt.title('RF \\nAccuracy:{0:.3f}'.format(accuracy_score(truth_data[idx_nonzero], prediction[idx_nonzero])))\n",
    "plt.ylabel('True label')\n",
    "plt.xlabel('Predicted label')\n",
    "plt.show()"
   ]
  },
  {
   "cell_type": "code",
   "execution_count": null,
   "metadata": {},
   "outputs": [],
   "source": []
  }
 ],
 "metadata": {
  "kernelspec": {
   "display_name": "Python 3",
   "language": "python",
   "name": "python3"
  },
  "language_info": {
   "codemirror_mode": {
    "name": "ipython",
    "version": 3
   },
   "file_extension": ".py",
   "mimetype": "text/x-python",
   "name": "python",
   "nbconvert_exporter": "python",
   "pygments_lexer": "ipython3",
   "version": "3.7.7"
  }
 },
 "nbformat": 4,
 "nbformat_minor": 4
}
